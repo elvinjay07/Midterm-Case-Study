{
  "nbformat": 4,
  "nbformat_minor": 0,
  "metadata": {
    "colab": {
      "provenance": [],
      "mount_file_id": "177IWOjlv77q-bwsTOAwt1eTGTryHp9YV",
      "authorship_tag": "ABX9TyMKHj8UC+c0kUV8mf0YadQV",
      "include_colab_link": true
    },
    "kernelspec": {
      "name": "python3",
      "display_name": "Python 3"
    },
    "language_info": {
      "name": "python"
    }
  },
  "cells": [
    {
      "cell_type": "markdown",
      "metadata": {
        "id": "view-in-github",
        "colab_type": "text"
      },
      "source": [
        "<a href=\"https://colab.research.google.com/github/elvinjay07/Midterm-Case-Study/blob/main/VoiceChanger.ipynb\" target=\"_parent\"><img src=\"https://colab.research.google.com/assets/colab-badge.svg\" alt=\"Open In Colab\"/></a>"
      ]
    },
    {
      "cell_type": "code",
      "source": [
        "from google.colab import drive\n",
        "drive.mount(\"/content/drive\")"
      ],
      "metadata": {
        "colab": {
          "base_uri": "https://localhost:8080/"
        },
        "id": "n02dWFyDNJgE",
        "outputId": "d60ede8a-878b-4c2e-b76f-6ab3b7dbb593"
      },
      "execution_count": 33,
      "outputs": [
        {
          "output_type": "stream",
          "name": "stdout",
          "text": [
            "Drive already mounted at /content/drive; to attempt to forcibly remount, call drive.mount(\"/content/drive\", force_remount=True).\n"
          ]
        }
      ]
    },
    {
      "cell_type": "code",
      "source": [
        "!pip install pydub"
      ],
      "metadata": {
        "colab": {
          "base_uri": "https://localhost:8080/"
        },
        "id": "l81v4oW7wo29",
        "outputId": "8162753b-285b-42f1-ffa6-626e015d729b"
      },
      "execution_count": 34,
      "outputs": [
        {
          "output_type": "stream",
          "name": "stdout",
          "text": [
            "Requirement already satisfied: pydub in /usr/local/lib/python3.10/dist-packages (0.25.1)\n"
          ]
        }
      ]
    },
    {
      "cell_type": "code",
      "source": [
        "import librosa\n",
        "import soundfile as sf\n",
        "import os\n",
        "from IPython.display import Audio\n",
        "from pydub import AudioSegment\n",
        "from pydub.playback import play"
      ],
      "metadata": {
        "id": "mX2_g1s2yMz4"
      },
      "execution_count": 35,
      "outputs": []
    },
    {
      "cell_type": "code",
      "source": [
        "y, sr = librosa.load(\"/content/drive/MyDrive/Project/audio_young.aac\")"
      ],
      "metadata": {
        "id": "hBWuqjZdtgWM"
      },
      "execution_count": null,
      "outputs": []
    },
    {
      "cell_type": "code",
      "source": [
        "girl = librosa.effects.pitch_shift(y, sr=sr, n_steps=10)\n",
        "sf.write('/content/drive/MyDrive/Project/Avatar Modified.wav', girl, sr)"
      ],
      "metadata": {
        "id": "1y-ECnL4oyn5"
      },
      "execution_count": 37,
      "outputs": []
    },
    {
      "cell_type": "code",
      "source": [
        "boy = librosa.effects.pitch_shift(y, sr=sr, n_steps=-1.5)\n",
        "sf.write('/content/drive/MyDrive/Project/audio_young_Modified.wav', boy, sr)"
      ],
      "metadata": {
        "id": "xjTKaLKno-vI"
      },
      "execution_count": 41,
      "outputs": []
    }
  ]
}