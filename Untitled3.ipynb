{
  "nbformat": 4,
  "nbformat_minor": 0,
  "metadata": {
    "colab": {
      "provenance": [],
      "mount_file_id": "177IWOjlv77q-bwsTOAwt1eTGTryHp9YV",
      "authorship_tag": "ABX9TyPPjoyodpwvFLy3ipI1DWDx",
      "include_colab_link": true
    },
    "kernelspec": {
      "name": "python3",
      "display_name": "Python 3"
    },
    "language_info": {
      "name": "python"
    }
  },
  "cells": [
    {
      "cell_type": "markdown",
      "metadata": {
        "id": "view-in-github",
        "colab_type": "text"
      },
      "source": [
        "<a href=\"https://colab.research.google.com/github/elvinjay07/Midterm-Case-Study/blob/main/Untitled3.ipynb\" target=\"_parent\"><img src=\"https://colab.research.google.com/assets/colab-badge.svg\" alt=\"Open In Colab\"/></a>"
      ]
    },
    {
      "cell_type": "code",
      "source": [
        "from google.colab import drive\n",
        "drive.mount(\"/content/drive\")"
      ],
      "metadata": {
        "colab": {
          "base_uri": "https://localhost:8080/"
        },
        "id": "n02dWFyDNJgE",
        "outputId": "341b87e9-3616-406a-c0da-038ccc589876"
      },
      "execution_count": 15,
      "outputs": [
        {
          "output_type": "stream",
          "name": "stdout",
          "text": [
            "Drive already mounted at /content/drive; to attempt to forcibly remount, call drive.mount(\"/content/drive\", force_remount=True).\n"
          ]
        }
      ]
    },
    {
      "cell_type": "code",
      "source": [
        "!pip install pydub"
      ],
      "metadata": {
        "colab": {
          "base_uri": "https://localhost:8080/"
        },
        "id": "l81v4oW7wo29",
        "outputId": "a28ef95a-4573-4126-f37c-42af3650d75d"
      },
      "execution_count": 17,
      "outputs": [
        {
          "output_type": "stream",
          "name": "stdout",
          "text": [
            "Collecting pydub\n",
            "  Downloading pydub-0.25.1-py2.py3-none-any.whl (32 kB)\n",
            "Installing collected packages: pydub\n",
            "Successfully installed pydub-0.25.1\n"
          ]
        }
      ]
    },
    {
      "cell_type": "code",
      "source": [
        "import librosa\n",
        "import soundfile as sf\n",
        "import os\n",
        "from IPython.display import Audio\n",
        "from pydub import AudioSegment\n",
        "from pydub.playback import play"
      ],
      "metadata": {
        "id": "mX2_g1s2yMz4"
      },
      "execution_count": 18,
      "outputs": []
    },
    {
      "cell_type": "code",
      "source": [
        "y, sr = librosa.load(\"/content/drive/MyDrive/Project/Final/Renai Orig1.m4a\")"
      ],
      "metadata": {
        "id": "hBWuqjZdtgWM"
      },
      "execution_count": null,
      "outputs": []
    },
    {
      "cell_type": "code",
      "source": [
        "girl = librosa.effects.pitch_shift(y, sr=sr, n_steps=10)\n",
        "sf.write('/content/drive/MyDrive/Project/Renaiq.wav', girlie, sr)"
      ],
      "metadata": {
        "id": "1y-ECnL4oyn5"
      },
      "execution_count": 22,
      "outputs": []
    },
    {
      "cell_type": "code",
      "source": [
        "wav_file_path = 'chipmunk.wav'\n",
        "audio_widget = Audio(wav_file_path)\n",
        "display(audio_widget)"
      ],
      "metadata": {
        "id": "tPAn4TuQo-MA"
      },
      "execution_count": null,
      "outputs": []
    },
    {
      "cell_type": "code",
      "source": [
        "boy = librosa.effects.pitch_shift(y, sr=sr, n_steps=-10)\n",
        "sf.write('scary.wav', y_scary, sr)"
      ],
      "metadata": {
        "id": "xjTKaLKno-vI"
      },
      "execution_count": null,
      "outputs": []
    },
    {
      "cell_type": "code",
      "source": [
        "wav_file_path = 'scary.wav'\n",
        "audio_widget = Audio(wav_file_path)\n",
        "display(audio_widget)"
      ],
      "metadata": {
        "id": "PNqUuHw_ybrq"
      },
      "execution_count": null,
      "outputs": []
    }
  ]
}